{
 "cells": [
  {
   "cell_type": "markdown",
   "metadata": {},
   "source": [
    "Reading a variable from NetCDF files and plotting"
   ]
  },
  {
   "cell_type": "markdown",
   "metadata": {},
   "source": [
    "Note: The color palletes are Color-Bliend friendly. "
   ]
  },
  {
   "cell_type": "code",
   "execution_count": null,
   "metadata": {},
   "outputs": [],
   "source": [
    "#import necessary libraries\n",
    "from netCDF4 import Dataset as dt\n",
    "import numpy as np\n",
    "import matplotlib.pyplot as plt\n",
    "%matplotlib inline\n",
    "\n",
    "#arranging the grid\n",
    "x = np.arange(0,50,10)\n",
    "y = np.arange(0,50,10)\n",
    "X,Y = np.meshgrid(x,y)\n",
    "plt.figure(figsize=(10,10))\n",
    "\n",
    "#Reading the data from NetCDF file\n",
    "file= '1D17'\n",
    "ncfile=dt(file,'r')\n",
    "\n",
    "#Getting the variable\n",
    "u= np.array(ncfile.variables['U10'][:],dtype=np.int32)\n",
    "u10= u*1.94386 #changing the unit to knots\n",
    "\n",
    "#plotting the contour\n",
    "CS1=plt.contourf(u10[1][:][:], colors = ('#f1eef6','#d7b5d8','#df65b0','#dd1c77','#980043'))\n",
    "\n",
    "#Setting the color bar\n",
    "plt.clabel(CS1, inline= True, fontsize=10)\n",
    "plt.colorbar (CS1, orientation= 'horizontal')\n",
    "\n",
    "import matplotlib \n",
    "matplotlib.rc('xtick', labelsize=10) \n",
    "matplotlib.rc('ytick', labelsize=10)\n",
    "\n",
    "#saving the plot\n",
    "plt.savefig(\"1.png\",dpi=300)\n"
   ]
  },
  {
   "cell_type": "markdown",
   "metadata": {},
   "source": [
    "![img](1.png)"
   ]
  },
  {
   "cell_type": "code",
   "execution_count": null,
   "metadata": {},
   "outputs": [],
   "source": []
  }
 ],
 "metadata": {
  "kernelspec": {
   "display_name": "Python 3",
   "language": "python",
   "name": "python3"
  },
  "language_info": {
   "codemirror_mode": {
    "name": "ipython",
    "version": 3
   },
   "file_extension": ".py",
   "mimetype": "text/x-python",
   "name": "python",
   "nbconvert_exporter": "python",
   "pygments_lexer": "ipython3",
   "version": "3.8.3"
  }
 },
 "nbformat": 4,
 "nbformat_minor": 4
}
